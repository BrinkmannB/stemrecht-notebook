{
  "cells": [
    {
      "cell_type": "markdown",
      "metadata": {},
      "source": "# If/Else en Lijsten — Stemrecht-checker 🇳🇱\n\nIn deze mini-notebook leer je hoe je met een `for`-lus en `if/else`-logica checkt wie mag stemmen in Nederland (18+).\nKorte, praktische voorbeelden + een paar kleine uitbreidingen.\n\n**Tip:** voer de cellen van boven naar beneden uit (Shift+Enter).\n"
    },
    {
      "cell_type": "markdown",
      "metadata": {},
      "source": "## 1) Basis: leeftijdenlijst en if/else\nWe loopen door een lijst `leeftijden` en printen per leeftijd of iemand mag stemmen.\n"
    },
    {
      "cell_type": "code",
      "metadata": {},
      "execution_count": null,
      "outputs": [],
      "source": "# Basis: leeftijdenlijst en if/else\nleeftijden = [12, 17, 18, 22, 15, 30]\n\nfor leeftijd in leeftijden:\n    if leeftijd >= 18:\n        print(f\"{leeftijd}: mag stemmen\")\n    else:\n        print(f\"{leeftijd}: mag nog niet stemmen\")\n"
    },
    {
      "cell_type": "markdown",
      "metadata": {},
      "source": "## 2) Praktischer: namen + leeftijden (tuples)\nWe gebruiken een lijst van tuples `(naam, leeftijd)`. We vangen ook ongeldige leeftijden af (bijv. -1).\n"
    },
    {
      "cell_type": "code",
      "metadata": {},
      "execution_count": null,
      "outputs": [],
      "source": "# Namen + leeftijden (tuples)\npersonen = [(\"Bas\", 58), (\"Mila\", 17), (\"Omar\", 19), (\"Noa\", -1)]\n\nfor naam, leeftijd in personen:\n    if leeftijd < 0:\n        print(f\"{naam}: ongeldige leeftijd ({leeftijd})\")\n    elif leeftijd >= 18:\n        print(f\"{naam} ({leeftijd}): mag stemmen ✅\")\n    else:\n        print(f\"{naam} ({leeftijd}): mag nog niet stemmen ⏳\")\n"
    },
    {
      "cell_type": "markdown",
      "metadata": {},
      "source": "## 3) Handig lijstje van stemgerechtigden (list comprehension)\nWe filteren in één regel alle mensen die 18+ zijn.\n"
    },
    {
      "cell_type": "code",
      "metadata": {},
      "execution_count": null,
      "outputs": [],
      "source": "# List comprehension om stemgerechtigden te selecteren\nstemgerechtigden = [naam for naam, leeftijd in personen if leeftijd >= 18]\nprint(\"Deze mensen mogen stemmen:\", \", \".join(stemgerechtigden))\n"
    },
    {
      "cell_type": "markdown",
      "metadata": {},
      "source": "## 4) Bonus: tellen hoeveel mensen 18+ zijn\nWe tellen met `sum` en een generator-expressie.\n"
    },
    {
      "cell_type": "code",
      "metadata": {},
      "execution_count": null,
      "outputs": [],
      "source": "# Aantal 18+ deelnemers tellen\naantal = sum(1 for _, leeftijd in personen if leeftijd >= 18)\nprint(f\"Aantal stemgerechtigden: {aantal}\")\n"
    },
    {
      "cell_type": "markdown",
      "metadata": {},
      "source": "## 5) (Optioneel) Herbruikbare functie\nMaak er een functie van zodat je elke lijst `(naam, leeftijd)` kunt controleren.\n"
    },
    {
      "cell_type": "code",
      "metadata": {},
      "execution_count": null,
      "outputs": [],
      "source": "# Herbruikbare functie\ndef check_stemrecht(personen, minimum=18):\n    resultaten = []\n    for naam, leeftijd in personen:\n        if leeftijd < 0:\n            resultaten.append((naam, leeftijd, \"ongeldig\"))\n        elif leeftijd >= minimum:\n            resultaten.append((naam, leeftijd, \"mag stemmen\"))\n        else:\n            resultaten.append((naam, leeftijd, \"mag nog niet stemmen\"))\n    return resultaten\n\n# Voorbeeld\ndataset = [(\"Ana\", 21), (\"Bram\", 17), (\"Cato\", 18), (\"Dirk\", -5)]\nfor naam, leeftijd, status in check_stemrecht(dataset):\n    print(f\"{naam} ({leeftijd}): {status}\")\n"
    },
    {
      "cell_type": "markdown",
      "metadata": {},
      "source": "## 🧪 Oefening\n1. Pas de lijst `personen` aan met je eigen namen en leeftijden en voer de cellen opnieuw uit.\n2. Zet de stemleeftijd tijdelijk op 16 door `minimum=16` te gebruiken bij `check_stemrecht`.\n3. Voeg extra validatie toe (bijv. `leeftijd > 120` is ook onrealistisch) en print een nette melding.\n"
    }
  ],
  "metadata": {
    "kernelspec": {
      "display_name": "Python 3",
      "language": "python",
      "name": "python3"
    },
    "language_info": {
      "name": "python",
      "version": "3.x",
      "mimetype": "text/x-python",
      "nbconvert_exporter": "python",
      "pygments_lexer": "ipython3",
      "codemirror_mode": {
        "name": "ipython",
        "version": 3
      }
    },
    "author": "ChatGPT",
    "created": "2025-08-29T08:33:02.629695Z"
  },
  "nbformat": 4,
  "nbformat_minor": 5
}